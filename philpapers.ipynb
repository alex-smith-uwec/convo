{
  "nbformat": 4,
  "nbformat_minor": 0,
  "metadata": {
    "colab": {
      "provenance": [],
      "mount_file_id": "18iHnVjnfbt_2vk6AqmA5MrKwYHbc21xV",
      "authorship_tag": "ABX9TyPksSKAhCpbg+NHP25gP9AJ",
      "include_colab_link": true
    },
    "kernelspec": {
      "name": "python3",
      "display_name": "Python 3"
    },
    "language_info": {
      "name": "python"
    }
  },
  "cells": [
    {
      "cell_type": "markdown",
      "metadata": {
        "id": "view-in-github",
        "colab_type": "text"
      },
      "source": [
        "<a href=\"https://colab.research.google.com/github/alex-smith-uwec/wittgenstein/blob/main/philpapers.ipynb\" target=\"_parent\"><img src=\"https://colab.research.google.com/assets/colab-badge.svg\" alt=\"Open In Colab\"/></a>"
      ]
    },
    {
      "cell_type": "markdown",
      "source": [
        "# Scrape from philpapers.org"
      ],
      "metadata": {
        "id": "zIdLrCvYYEVM"
      }
    },
    {
      "cell_type": "code",
      "source": [
        "import requests"
      ],
      "metadata": {
        "id": "Uhq3r8bKZAE8"
      },
      "execution_count": 2,
      "outputs": []
    },
    {
      "cell_type": "code",
      "execution_count": 3,
      "metadata": {
        "id": "4tXJuw-zbgfN"
      },
      "outputs": [],
      "source": [
        "#one line is limited search with limit=50, other has limit=1000\n",
        "# response = requests.get(\"https://philpapers.org/browse/philosophy-of-language?cId=15&langFilter=&new=1&sqc=&limit=1000&freeOnly=off&filterByAreas=&sort=relevance&proOnly=off&setAside=&cn=philosophy-of-language&showCategories=off&Search=Search&onlineOnly=&newWindow=&hideAbstracts=off&uncat=&publishedOnly=&start=50&categorizerOn=&catq=Wittgenstein&format=html&jlist=&ap_c1=&ap_c2=\")\n",
        "response=requests.get(\"https://philpapers.org/browse/philosophy-of-language?newWindow=&new=1&proOnly=off&publishedOnly=&hideAbstracts=off&limit=50&sqc=&sort=relevance&cn=philosophy-of-language&filterByAreas=&uncat=&format=html&showCategories=off&onlineOnly=&start=0&freeOnly=off&ap_c1=&categorizerOn=&langFilter=&cId=15&setAside=&ap_c2=&Search=Search&catq=Wittgenstein&jlist=&ap_c1=&ap_c2=\")\n",
        "if response.status_code != 200:\n",
        "\tprint(\"Error fetching page\")\n",
        "\texit()\n",
        "else:\n",
        "\tcontent = response.content\n",
        "# print(content)"
      ]
    },
    {
      "cell_type": "code",
      "source": [
        "from bs4 import BeautifulSoup\n",
        "soup = BeautifulSoup(response.content, 'html.parser')"
      ],
      "metadata": {
        "id": "FYpxY0TlbhqI"
      },
      "execution_count": 4,
      "outputs": []
    },
    {
      "cell_type": "code",
      "source": [
        "# test=soup.find('span',{'articleTitle recTitle'})\n",
        "# test.text"
      ],
      "metadata": {
        "id": "27ycIPR0_06e"
      },
      "execution_count": 5,
      "outputs": []
    },
    {
      "cell_type": "code",
      "source": [
        "abs=soup.find_all('div',{'abstract'})\n",
        "tit=soup.find_all('span',{'articleTitle recTitle'})"
      ],
      "metadata": {
        "id": "D1VPnIifubxN"
      },
      "execution_count": null,
      "outputs": []
    },
    {
      "cell_type": "code",
      "source": [
        "# abstracts = []\n",
        "# for thing in abs:\n",
        "#     b = thing.text\n",
        "#     abstracts.append(b)\n",
        "\n",
        "# titles = []\n",
        "# for thing in tit:\n",
        "#     b = thing.text\n",
        "#     titles.append(b)\n",
        "  "
      ],
      "metadata": {
        "id": "SN3LTjmnfmxY"
      },
      "execution_count": null,
      "outputs": []
    },
    {
      "cell_type": "code",
      "source": [
        "# abstracts[12]"
      ],
      "metadata": {
        "colab": {
          "base_uri": "https://localhost:8080/",
          "height": 120
        },
        "id": "sOa0FprXfsmQ",
        "outputId": "758efc29-17f0-42f2-f8ff-ea7ec0dbb1f1"
      },
      "execution_count": null,
      "outputs": [
        {
          "output_type": "execute_result",
          "data": {
            "text/plain": [
              "\"The main interpretive claim of this book is that both Wittgenstein’s mature philosophical method and his much misunderstood critique of private language have their roots in his critique of the misleading metaphor of phenomenal space–that is, the misleading, figurative analogy between physical space, or space simpliciter, and phenomenal space, or the “space” of appearances. His critique of this metaphor extends from his rejection of sense-data (Chapters 2 and 3), to his investigation of the asymmetry between first- and other-person pronouns in (...) conjunction with psychological vocabulary (Chapter 4), to his discussion of noticing aspects (Chapter 3), and, of course, to his revolutionary critique of the privacy of the mental (Chapter 3) and of the related, but more general, misleading metaphor of the inner and the outer. Wittgenstein’s critique of the idea of phenomenal space is, at the same time, the prototype for his new philosophical method–the method of grammatical investigation, which holds that many of the persistent problems of philosophy arise from failing to command a clear view of the grammar of various regions of our language and finding ourselves, as a result, vulnerable to misleading pictures of our mental lives, of our linguistic practices, of mathematics, and of countless fundamental elements of our world view(s), whose misunderstanding is the locus of the traditional problems of metaphysics (Chapter 3). Chapters 5, 6 and 7 argue for the continued relevance of Wittgenstein's critique of the misleading metaphor of phenomenal space by showing how it applies to contemporary discussions of first-person authority, recent attempts to revive sense-datum theories, and the ongoing debate about sensory qualia. (shrink)\""
            ],
            "application/vnd.google.colaboratory.intrinsic+json": {
              "type": "string"
            }
          },
          "metadata": {},
          "execution_count": 6
        }
      ]
    },
    {
      "cell_type": "code",
      "source": [],
      "metadata": {
        "id": "nf3KUZ4YKQgZ"
      },
      "execution_count": null,
      "outputs": []
    },
    {
      "cell_type": "code",
      "source": [
        "# print(len(abstracts))\n",
        "# print(len(titles))"
      ],
      "metadata": {
        "colab": {
          "base_uri": "https://localhost:8080/"
        },
        "id": "B5lolXEsxGt8",
        "outputId": "0d9bc8fa-06b4-4452-8c0f-16980a3ac715"
      },
      "execution_count": null,
      "outputs": [
        {
          "output_type": "stream",
          "name": "stdout",
          "text": [
            "44\n",
            "50\n"
          ]
        }
      ]
    },
    {
      "cell_type": "code",
      "source": [
        "import pandas as pd\n",
        "import csv"
      ],
      "metadata": {
        "id": "T9VeW7i6Hdtk"
      },
      "execution_count": 7,
      "outputs": []
    },
    {
      "cell_type": "code",
      "source": [
        "soup.find('li','entry')"
      ],
      "metadata": {
        "id": "t09Pl18vcM8F"
      },
      "execution_count": null,
      "outputs": []
    },
    {
      "cell_type": "code",
      "source": [
        "results = pd.DataFrame()\n",
        "\n",
        "pubs = soup.find_all('li','entry')\n",
        "\n",
        "for art in pubs:\n",
        "\n",
        "        try:\n",
        "            tit = art.find('span',{'articleTitle recTitle'}).text.strip()\n",
        "        except:\n",
        "            tit = None\n",
        "\n",
        "        try:\n",
        "            abs = art.find('div', {'abstract'}).text.strip()\n",
        "        except:\n",
        "            abs = None\n",
        "\n",
        "        \n",
        "\n",
        "        temp_df = pd.DataFrame([[tit,abs]], columns=['Title','Abstract'])\n",
        "        results = results.append(temp_df, sort=False).reset_index(drop=True)\n",
        "        \n",
        "\n",
        "\n",
        "# results.to_csv('/content/drive/MyDrive/NLP/Witt/PhilPapersAbstracts.csv', index=False)"
      ],
      "metadata": {
        "id": "n-IlriKcZQcb"
      },
      "execution_count": 15,
      "outputs": []
    },
    {
      "cell_type": "code",
      "source": [
        "results\n"
      ],
      "metadata": {
        "colab": {
          "base_uri": "https://localhost:8080/",
          "height": 1000
        },
        "id": "ilUUyvP3bXTs",
        "outputId": "8f29ce7d-c6ab-451f-b29e-7f8d1b3ee129"
      },
      "execution_count": 16,
      "outputs": [
        {
          "output_type": "execute_result",
          "data": {
            "text/plain": [
              "                                                Title  \\\n",
              "0   Wittgenstein's Lectures on Philosophical Psych...   \n",
              "1   Wittgenstein on Rules and Private Language: An...   \n",
              "2                           Seeing Wittgenstein Anew.   \n",
              "3               Wittgenstein, Rules and Institutions.   \n",
              "4   Wittgenstein on Philosophy, Objectivity, and M...   \n",
              "5   Wittgenstein's Objects and the Theory of Names...   \n",
              "6    Wittgenstein and the logic of deep disagreement.   \n",
              "7             Wittgenstein on the Limits of Language.   \n",
              "8   Wittgenstein's Nonsense Objection to Russell's...   \n",
              "9           Wittgenstein as a Gricean Intentionalist.   \n",
              "10  Wittgenstein, Popper e o debate sobre os probl...   \n",
              "11  Wittgensteins Physikalismus: die Sinnesdatenan...   \n",
              "12  Wittgenstein’s Thought Experiments and Relativ...   \n",
              "13          Wittgenstein on Sensation and Perception.   \n",
              "14  Wittgenstein at Work: Method in the Philosophi...   \n",
              "15  Wittgenstein, Theories of Meaning, and Linguis...   \n",
              "16           Wittgenstein on psychological certainty.   \n",
              "17          Wittgenstein, rules and origin - privacy.   \n",
              "18  Wittgenstein and the Problem of Phenomenology ...   \n",
              "19                  Wittgenstein on following a rule.   \n",
              "20  Wittgenstein’s Confessions : Reading Philosoph...   \n",
              "21  Wittgenstein and Other Philosophers: His Influ...   \n",
              "22    Wittgenstein on the Foundations of Mathematics.   \n",
              "23  Wittgenstein, Kripke, and the rule following p...   \n",
              "24  Representation and Reality in Wittgenstein's T...   \n",
              "25                Wittgenstein on language and rules.   \n",
              "26  The Blue and Brown Books: Preliminary Studies ...   \n",
              "27  Wittgenstein, Winch, Kripkenstein y la posibil...   \n",
              "28       Wittgenstein and the Practice of Philosophy.   \n",
              "29  Wittgenstein on Intentionality and Mental Repr...   \n",
              "30                     Wittgenstein's Later Nonsense.   \n",
              "31  Wittgenstein and Husserl: Context Meaning Theory.   \n",
              "32  Wittgenstein and Contemporary Belief-Credence ...   \n",
              "33                    Wittgenstein: To Follow A Rule.   \n",
              "34  Wittgenstein's rule-following paradox and the ...   \n",
              "35  Wittgenstein on Meaning: An Interpretation and...   \n",
              "36               Wittgenstein on rules and platonism.   \n",
              "37        Wittgenstein on the substance of the world.   \n",
              "38                           Wittgenstein on meaning.   \n",
              "39                     Wittgenstein vs contextualism.   \n",
              "40  Wittgenstein's Private Language: Grammar, Nons...   \n",
              "41  Wittgenstein and the Dualism of the Inner and ...   \n",
              "42                          Wittgenstein's Attitudes.   \n",
              "43   Plato, Wittgenstein and the definition of games.   \n",
              "44  On Wittgenstein's notion of meaning-blindness:...   \n",
              "45  Wittgenstein: Understanding and Meaning: Volum...   \n",
              "46     Wittgenstein and the Possibility of Discourse.   \n",
              "47  Wittgenstein, Contextualism, and Nonsense: A R...   \n",
              "48      Wittgenstein: The Only Genius of the Century?   \n",
              "49  Wittgenstein on Musical Experience and Knowledge.   \n",
              "\n",
              "                                             Abstract  \n",
              "0   From his return to Cambridge in 1929 to his de...  \n",
              "1   In this book Saul Kripke brings his powerful p...  \n",
              "2   Seeing Wittgenstein Anew is the first collecti...  \n",
              "3   David Bloor's challenging new evaluation of Wi...  \n",
              "4   This volume of new essays presents groundbreak...  \n",
              "5   The supposition that Wittgenstein's Tractatus ...  \n",
              "6   In “The logic of deep disagreements” (Informal...  \n",
              "7   The paper interprets Wittgenstein’s famous cal...  \n",
              "8   I offer an interpretation of Wittgenstein's cl...  \n",
              "9   According to the dominant view, the later Witt...  \n",
              "10  The objective of this work is to present Ludwi...  \n",
              "11  Das Buch entwickelt einen neuartigen, physikal...  \n",
              "12  In this paper, I discuss the similarity betwee...  \n",
              "13  The main interpretive claim of this book is th...  \n",
              "14  Wittgenstein at Work: Method in the Philosophi...  \n",
              "15  This paper argues that Wittgenstein opposed th...  \n",
              "16  As is well known, Wittgenstein pointed out an ...  \n",
              "17                                               None  \n",
              "18  Wittgenstein’s mention of the term “phenomenol...  \n",
              "19                                               None  \n",
              "20  This paper draws on a number of parallels betw...  \n",
              "21  This edited volume includes 36 Chapters, each ...  \n",
              "22                                               None  \n",
              "23  In?201 of Philosophical Investigations, Ludwig...  \n",
              "24  José L. Zalabardo puts forward a new interpret...  \n",
              "25  An attempt is made to answer the question why ...  \n",
              "26  These works, as the sub-title makes clear, are...  \n",
              "27  The present paper deals with the consequences ...  \n",
              "28  _Wittgenstein and the Practice of Philosophy_ ...  \n",
              "29  The concept of intentionality — what Brentano ...  \n",
              "30  According to an influential reading of his lat...  \n",
              "31  The present article concentrates on understand...  \n",
              "32  This paper examines religious epistemics in re...  \n",
              "33  INTRODUCTORY ESSAY: COMMUNAL AGREEMENT AND OBJ...  \n",
              "34  Two readings of Wittgenstein's rule-following ...  \n",
              "35                                               None  \n",
              "36                                               None  \n",
              "37  The *Tractatus* contains an argument that ther...  \n",
              "38  Wittgenstein is usually taken to have held tha...  \n",
              "39  A critique of attempts by Charles Travis and o...  \n",
              "40  Stephen Mulhall offers a new way of interpreti...  \n",
              "41  A dualism characteristic of modern philosophy ...  \n",
              "42  What's wrong with modalities in (Wittgenstein ...  \n",
              "43  In this paper I argue, controversially, that P...  \n",
              "44  Wittgenstein in his later years thought about ...  \n",
              "45  v. 1, pt. 1. The essays -- v. 1, pt. 2. Exiges...  \n",
              "46  Four years after the publication of Wittgenste...  \n",
              "47  What nonsense might be, and what Wittgenstein ...  \n",
              "48  Thomas Nagel provides a brief summary of Wittg...  \n",
              "49  Wittgenstein’s thinking on music is intimately...  "
            ],
            "text/html": [
              "\n",
              "  <div id=\"df-def157f8-a449-451f-91e8-2ab9a96709fe\">\n",
              "    <div class=\"colab-df-container\">\n",
              "      <div>\n",
              "<style scoped>\n",
              "    .dataframe tbody tr th:only-of-type {\n",
              "        vertical-align: middle;\n",
              "    }\n",
              "\n",
              "    .dataframe tbody tr th {\n",
              "        vertical-align: top;\n",
              "    }\n",
              "\n",
              "    .dataframe thead th {\n",
              "        text-align: right;\n",
              "    }\n",
              "</style>\n",
              "<table border=\"1\" class=\"dataframe\">\n",
              "  <thead>\n",
              "    <tr style=\"text-align: right;\">\n",
              "      <th></th>\n",
              "      <th>Title</th>\n",
              "      <th>Abstract</th>\n",
              "    </tr>\n",
              "  </thead>\n",
              "  <tbody>\n",
              "    <tr>\n",
              "      <th>0</th>\n",
              "      <td>Wittgenstein's Lectures on Philosophical Psych...</td>\n",
              "      <td>From his return to Cambridge in 1929 to his de...</td>\n",
              "    </tr>\n",
              "    <tr>\n",
              "      <th>1</th>\n",
              "      <td>Wittgenstein on Rules and Private Language: An...</td>\n",
              "      <td>In this book Saul Kripke brings his powerful p...</td>\n",
              "    </tr>\n",
              "    <tr>\n",
              "      <th>2</th>\n",
              "      <td>Seeing Wittgenstein Anew.</td>\n",
              "      <td>Seeing Wittgenstein Anew is the first collecti...</td>\n",
              "    </tr>\n",
              "    <tr>\n",
              "      <th>3</th>\n",
              "      <td>Wittgenstein, Rules and Institutions.</td>\n",
              "      <td>David Bloor's challenging new evaluation of Wi...</td>\n",
              "    </tr>\n",
              "    <tr>\n",
              "      <th>4</th>\n",
              "      <td>Wittgenstein on Philosophy, Objectivity, and M...</td>\n",
              "      <td>This volume of new essays presents groundbreak...</td>\n",
              "    </tr>\n",
              "    <tr>\n",
              "      <th>5</th>\n",
              "      <td>Wittgenstein's Objects and the Theory of Names...</td>\n",
              "      <td>The supposition that Wittgenstein's Tractatus ...</td>\n",
              "    </tr>\n",
              "    <tr>\n",
              "      <th>6</th>\n",
              "      <td>Wittgenstein and the logic of deep disagreement.</td>\n",
              "      <td>In “The logic of deep disagreements” (Informal...</td>\n",
              "    </tr>\n",
              "    <tr>\n",
              "      <th>7</th>\n",
              "      <td>Wittgenstein on the Limits of Language.</td>\n",
              "      <td>The paper interprets Wittgenstein’s famous cal...</td>\n",
              "    </tr>\n",
              "    <tr>\n",
              "      <th>8</th>\n",
              "      <td>Wittgenstein's Nonsense Objection to Russell's...</td>\n",
              "      <td>I offer an interpretation of Wittgenstein's cl...</td>\n",
              "    </tr>\n",
              "    <tr>\n",
              "      <th>9</th>\n",
              "      <td>Wittgenstein as a Gricean Intentionalist.</td>\n",
              "      <td>According to the dominant view, the later Witt...</td>\n",
              "    </tr>\n",
              "    <tr>\n",
              "      <th>10</th>\n",
              "      <td>Wittgenstein, Popper e o debate sobre os probl...</td>\n",
              "      <td>The objective of this work is to present Ludwi...</td>\n",
              "    </tr>\n",
              "    <tr>\n",
              "      <th>11</th>\n",
              "      <td>Wittgensteins Physikalismus: die Sinnesdatenan...</td>\n",
              "      <td>Das Buch entwickelt einen neuartigen, physikal...</td>\n",
              "    </tr>\n",
              "    <tr>\n",
              "      <th>12</th>\n",
              "      <td>Wittgenstein’s Thought Experiments and Relativ...</td>\n",
              "      <td>In this paper, I discuss the similarity betwee...</td>\n",
              "    </tr>\n",
              "    <tr>\n",
              "      <th>13</th>\n",
              "      <td>Wittgenstein on Sensation and Perception.</td>\n",
              "      <td>The main interpretive claim of this book is th...</td>\n",
              "    </tr>\n",
              "    <tr>\n",
              "      <th>14</th>\n",
              "      <td>Wittgenstein at Work: Method in the Philosophi...</td>\n",
              "      <td>Wittgenstein at Work: Method in the Philosophi...</td>\n",
              "    </tr>\n",
              "    <tr>\n",
              "      <th>15</th>\n",
              "      <td>Wittgenstein, Theories of Meaning, and Linguis...</td>\n",
              "      <td>This paper argues that Wittgenstein opposed th...</td>\n",
              "    </tr>\n",
              "    <tr>\n",
              "      <th>16</th>\n",
              "      <td>Wittgenstein on psychological certainty.</td>\n",
              "      <td>As is well known, Wittgenstein pointed out an ...</td>\n",
              "    </tr>\n",
              "    <tr>\n",
              "      <th>17</th>\n",
              "      <td>Wittgenstein, rules and origin - privacy.</td>\n",
              "      <td>None</td>\n",
              "    </tr>\n",
              "    <tr>\n",
              "      <th>18</th>\n",
              "      <td>Wittgenstein and the Problem of Phenomenology ...</td>\n",
              "      <td>Wittgenstein’s mention of the term “phenomenol...</td>\n",
              "    </tr>\n",
              "    <tr>\n",
              "      <th>19</th>\n",
              "      <td>Wittgenstein on following a rule.</td>\n",
              "      <td>None</td>\n",
              "    </tr>\n",
              "    <tr>\n",
              "      <th>20</th>\n",
              "      <td>Wittgenstein’s Confessions : Reading Philosoph...</td>\n",
              "      <td>This paper draws on a number of parallels betw...</td>\n",
              "    </tr>\n",
              "    <tr>\n",
              "      <th>21</th>\n",
              "      <td>Wittgenstein and Other Philosophers: His Influ...</td>\n",
              "      <td>This edited volume includes 36 Chapters, each ...</td>\n",
              "    </tr>\n",
              "    <tr>\n",
              "      <th>22</th>\n",
              "      <td>Wittgenstein on the Foundations of Mathematics.</td>\n",
              "      <td>None</td>\n",
              "    </tr>\n",
              "    <tr>\n",
              "      <th>23</th>\n",
              "      <td>Wittgenstein, Kripke, and the rule following p...</td>\n",
              "      <td>In?201 of Philosophical Investigations, Ludwig...</td>\n",
              "    </tr>\n",
              "    <tr>\n",
              "      <th>24</th>\n",
              "      <td>Representation and Reality in Wittgenstein's T...</td>\n",
              "      <td>José L. Zalabardo puts forward a new interpret...</td>\n",
              "    </tr>\n",
              "    <tr>\n",
              "      <th>25</th>\n",
              "      <td>Wittgenstein on language and rules.</td>\n",
              "      <td>An attempt is made to answer the question why ...</td>\n",
              "    </tr>\n",
              "    <tr>\n",
              "      <th>26</th>\n",
              "      <td>The Blue and Brown Books: Preliminary Studies ...</td>\n",
              "      <td>These works, as the sub-title makes clear, are...</td>\n",
              "    </tr>\n",
              "    <tr>\n",
              "      <th>27</th>\n",
              "      <td>Wittgenstein, Winch, Kripkenstein y la posibil...</td>\n",
              "      <td>The present paper deals with the consequences ...</td>\n",
              "    </tr>\n",
              "    <tr>\n",
              "      <th>28</th>\n",
              "      <td>Wittgenstein and the Practice of Philosophy.</td>\n",
              "      <td>_Wittgenstein and the Practice of Philosophy_ ...</td>\n",
              "    </tr>\n",
              "    <tr>\n",
              "      <th>29</th>\n",
              "      <td>Wittgenstein on Intentionality and Mental Repr...</td>\n",
              "      <td>The concept of intentionality — what Brentano ...</td>\n",
              "    </tr>\n",
              "    <tr>\n",
              "      <th>30</th>\n",
              "      <td>Wittgenstein's Later Nonsense.</td>\n",
              "      <td>According to an influential reading of his lat...</td>\n",
              "    </tr>\n",
              "    <tr>\n",
              "      <th>31</th>\n",
              "      <td>Wittgenstein and Husserl: Context Meaning Theory.</td>\n",
              "      <td>The present article concentrates on understand...</td>\n",
              "    </tr>\n",
              "    <tr>\n",
              "      <th>32</th>\n",
              "      <td>Wittgenstein and Contemporary Belief-Credence ...</td>\n",
              "      <td>This paper examines religious epistemics in re...</td>\n",
              "    </tr>\n",
              "    <tr>\n",
              "      <th>33</th>\n",
              "      <td>Wittgenstein: To Follow A Rule.</td>\n",
              "      <td>INTRODUCTORY ESSAY: COMMUNAL AGREEMENT AND OBJ...</td>\n",
              "    </tr>\n",
              "    <tr>\n",
              "      <th>34</th>\n",
              "      <td>Wittgenstein's rule-following paradox and the ...</td>\n",
              "      <td>Two readings of Wittgenstein's rule-following ...</td>\n",
              "    </tr>\n",
              "    <tr>\n",
              "      <th>35</th>\n",
              "      <td>Wittgenstein on Meaning: An Interpretation and...</td>\n",
              "      <td>None</td>\n",
              "    </tr>\n",
              "    <tr>\n",
              "      <th>36</th>\n",
              "      <td>Wittgenstein on rules and platonism.</td>\n",
              "      <td>None</td>\n",
              "    </tr>\n",
              "    <tr>\n",
              "      <th>37</th>\n",
              "      <td>Wittgenstein on the substance of the world.</td>\n",
              "      <td>The *Tractatus* contains an argument that ther...</td>\n",
              "    </tr>\n",
              "    <tr>\n",
              "      <th>38</th>\n",
              "      <td>Wittgenstein on meaning.</td>\n",
              "      <td>Wittgenstein is usually taken to have held tha...</td>\n",
              "    </tr>\n",
              "    <tr>\n",
              "      <th>39</th>\n",
              "      <td>Wittgenstein vs contextualism.</td>\n",
              "      <td>A critique of attempts by Charles Travis and o...</td>\n",
              "    </tr>\n",
              "    <tr>\n",
              "      <th>40</th>\n",
              "      <td>Wittgenstein's Private Language: Grammar, Nons...</td>\n",
              "      <td>Stephen Mulhall offers a new way of interpreti...</td>\n",
              "    </tr>\n",
              "    <tr>\n",
              "      <th>41</th>\n",
              "      <td>Wittgenstein and the Dualism of the Inner and ...</td>\n",
              "      <td>A dualism characteristic of modern philosophy ...</td>\n",
              "    </tr>\n",
              "    <tr>\n",
              "      <th>42</th>\n",
              "      <td>Wittgenstein's Attitudes.</td>\n",
              "      <td>What's wrong with modalities in (Wittgenstein ...</td>\n",
              "    </tr>\n",
              "    <tr>\n",
              "      <th>43</th>\n",
              "      <td>Plato, Wittgenstein and the definition of games.</td>\n",
              "      <td>In this paper I argue, controversially, that P...</td>\n",
              "    </tr>\n",
              "    <tr>\n",
              "      <th>44</th>\n",
              "      <td>On Wittgenstein's notion of meaning-blindness:...</td>\n",
              "      <td>Wittgenstein in his later years thought about ...</td>\n",
              "    </tr>\n",
              "    <tr>\n",
              "      <th>45</th>\n",
              "      <td>Wittgenstein: Understanding and Meaning: Volum...</td>\n",
              "      <td>v. 1, pt. 1. The essays -- v. 1, pt. 2. Exiges...</td>\n",
              "    </tr>\n",
              "    <tr>\n",
              "      <th>46</th>\n",
              "      <td>Wittgenstein and the Possibility of Discourse.</td>\n",
              "      <td>Four years after the publication of Wittgenste...</td>\n",
              "    </tr>\n",
              "    <tr>\n",
              "      <th>47</th>\n",
              "      <td>Wittgenstein, Contextualism, and Nonsense: A R...</td>\n",
              "      <td>What nonsense might be, and what Wittgenstein ...</td>\n",
              "    </tr>\n",
              "    <tr>\n",
              "      <th>48</th>\n",
              "      <td>Wittgenstein: The Only Genius of the Century?</td>\n",
              "      <td>Thomas Nagel provides a brief summary of Wittg...</td>\n",
              "    </tr>\n",
              "    <tr>\n",
              "      <th>49</th>\n",
              "      <td>Wittgenstein on Musical Experience and Knowledge.</td>\n",
              "      <td>Wittgenstein’s thinking on music is intimately...</td>\n",
              "    </tr>\n",
              "  </tbody>\n",
              "</table>\n",
              "</div>\n",
              "      <button class=\"colab-df-convert\" onclick=\"convertToInteractive('df-def157f8-a449-451f-91e8-2ab9a96709fe')\"\n",
              "              title=\"Convert this dataframe to an interactive table.\"\n",
              "              style=\"display:none;\">\n",
              "        \n",
              "  <svg xmlns=\"http://www.w3.org/2000/svg\" height=\"24px\"viewBox=\"0 0 24 24\"\n",
              "       width=\"24px\">\n",
              "    <path d=\"M0 0h24v24H0V0z\" fill=\"none\"/>\n",
              "    <path d=\"M18.56 5.44l.94 2.06.94-2.06 2.06-.94-2.06-.94-.94-2.06-.94 2.06-2.06.94zm-11 1L8.5 8.5l.94-2.06 2.06-.94-2.06-.94L8.5 2.5l-.94 2.06-2.06.94zm10 10l.94 2.06.94-2.06 2.06-.94-2.06-.94-.94-2.06-.94 2.06-2.06.94z\"/><path d=\"M17.41 7.96l-1.37-1.37c-.4-.4-.92-.59-1.43-.59-.52 0-1.04.2-1.43.59L10.3 9.45l-7.72 7.72c-.78.78-.78 2.05 0 2.83L4 21.41c.39.39.9.59 1.41.59.51 0 1.02-.2 1.41-.59l7.78-7.78 2.81-2.81c.8-.78.8-2.07 0-2.86zM5.41 20L4 18.59l7.72-7.72 1.47 1.35L5.41 20z\"/>\n",
              "  </svg>\n",
              "      </button>\n",
              "      \n",
              "  <style>\n",
              "    .colab-df-container {\n",
              "      display:flex;\n",
              "      flex-wrap:wrap;\n",
              "      gap: 12px;\n",
              "    }\n",
              "\n",
              "    .colab-df-convert {\n",
              "      background-color: #E8F0FE;\n",
              "      border: none;\n",
              "      border-radius: 50%;\n",
              "      cursor: pointer;\n",
              "      display: none;\n",
              "      fill: #1967D2;\n",
              "      height: 32px;\n",
              "      padding: 0 0 0 0;\n",
              "      width: 32px;\n",
              "    }\n",
              "\n",
              "    .colab-df-convert:hover {\n",
              "      background-color: #E2EBFA;\n",
              "      box-shadow: 0px 1px 2px rgba(60, 64, 67, 0.3), 0px 1px 3px 1px rgba(60, 64, 67, 0.15);\n",
              "      fill: #174EA6;\n",
              "    }\n",
              "\n",
              "    [theme=dark] .colab-df-convert {\n",
              "      background-color: #3B4455;\n",
              "      fill: #D2E3FC;\n",
              "    }\n",
              "\n",
              "    [theme=dark] .colab-df-convert:hover {\n",
              "      background-color: #434B5C;\n",
              "      box-shadow: 0px 1px 3px 1px rgba(0, 0, 0, 0.15);\n",
              "      filter: drop-shadow(0px 1px 2px rgba(0, 0, 0, 0.3));\n",
              "      fill: #FFFFFF;\n",
              "    }\n",
              "  </style>\n",
              "\n",
              "      <script>\n",
              "        const buttonEl =\n",
              "          document.querySelector('#df-def157f8-a449-451f-91e8-2ab9a96709fe button.colab-df-convert');\n",
              "        buttonEl.style.display =\n",
              "          google.colab.kernel.accessAllowed ? 'block' : 'none';\n",
              "\n",
              "        async function convertToInteractive(key) {\n",
              "          const element = document.querySelector('#df-def157f8-a449-451f-91e8-2ab9a96709fe');\n",
              "          const dataTable =\n",
              "            await google.colab.kernel.invokeFunction('convertToInteractive',\n",
              "                                                     [key], {});\n",
              "          if (!dataTable) return;\n",
              "\n",
              "          const docLinkHtml = 'Like what you see? Visit the ' +\n",
              "            '<a target=\"_blank\" href=https://colab.research.google.com/notebooks/data_table.ipynb>data table notebook</a>'\n",
              "            + ' to learn more about interactive tables.';\n",
              "          element.innerHTML = '';\n",
              "          dataTable['output_type'] = 'display_data';\n",
              "          await google.colab.output.renderOutput(dataTable, element);\n",
              "          const docLink = document.createElement('div');\n",
              "          docLink.innerHTML = docLinkHtml;\n",
              "          element.appendChild(docLink);\n",
              "        }\n",
              "      </script>\n",
              "    </div>\n",
              "  </div>\n",
              "  "
            ]
          },
          "metadata": {},
          "execution_count": 16
        }
      ]
    },
    {
      "cell_type": "code",
      "source": [],
      "metadata": {
        "id": "dpdq2bfC3-HB"
      },
      "execution_count": null,
      "outputs": []
    },
    {
      "cell_type": "markdown",
      "source": [
        "# BertTopic modeling of abstracts\n",
        "See https://github.com/MaartenGr/BERTopic/blob/master/notebooks/BERTopic.ipynb"
      ],
      "metadata": {
        "id": "oFfsJIcRZdSG"
      }
    },
    {
      "cell_type": "code",
      "source": [
        "%%capture\n",
        "!pip install bertopic"
      ],
      "metadata": {
        "id": "FzE-_9o1Zl-H"
      },
      "execution_count": 17,
      "outputs": []
    },
    {
      "cell_type": "markdown",
      "source": [
        "Restart the Notebook\n",
        "After installing BERTopic, some packages that were already loaded were updated and in order to correctly use them, we should now restart the notebook.\n",
        "From the Menu:\n",
        "Runtime → Restart Runtime"
      ],
      "metadata": {
        "id": "G9ceJdF_elnC"
      }
    },
    {
      "cell_type": "code",
      "source": [
        "file = open(\"/content/drive/MyDrive/NLP/Witt/PhilPapersAbstracts.csv\", \"r\")\n",
        "data = list(csv.reader(file, delimiter=\",\"))\n",
        "file.close()"
      ],
      "metadata": {
        "id": "bJC9eX5Jd4kY"
      },
      "execution_count": null,
      "outputs": []
    },
    {
      "cell_type": "code",
      "source": [
        "from bertopic import BERTopic\n",
        "\n",
        "topic_model = BERTopic(language=\"multilingual\", calculate_probabilities=True, verbose=True)\n",
        "topics, probs = topic_model.fit_transform(docs)"
      ],
      "metadata": {
        "id": "FxaB8NJ_e-jt"
      },
      "execution_count": null,
      "outputs": []
    },
    {
      "cell_type": "code",
      "source": [
        "freq = topic_model.get_topic_info(); freq.head(5"
      ],
      "metadata": {
        "id": "bIVNXjDYfD9j"
      },
      "execution_count": null,
      "outputs": []
    },
    {
      "cell_type": "code",
      "source": [
        "opic_model.get_topic(0)  # Select the most frequent topic"
      ],
      "metadata": {
        "id": "EqCWrPomfKo5"
      },
      "execution_count": null,
      "outputs": []
    },
    {
      "cell_type": "code",
      "source": [
        "Attributes"
      ],
      "metadata": {
        "id": "iLq-25w7fKl3"
      },
      "execution_count": null,
      "outputs": []
    },
    {
      "cell_type": "code",
      "source": [
        "topic_model.topics_[:10]"
      ],
      "metadata": {
        "id": "rHMzPiO1eGf0"
      },
      "execution_count": null,
      "outputs": []
    },
    {
      "cell_type": "code",
      "source": [
        "topic_model.visualize_topics()"
      ],
      "metadata": {
        "id": "QwvO_vdpfjme"
      },
      "execution_count": null,
      "outputs": []
    },
    {
      "cell_type": "code",
      "source": [
        "topic_model.visualize_hierarchy(top_n_topics=50)"
      ],
      "metadata": {
        "id": "9srJ8ayFfoaI"
      },
      "execution_count": null,
      "outputs": []
    },
    {
      "cell_type": "code",
      "source": [
        "topic_model.visualize_barchart(top_n_topics=5)"
      ],
      "metadata": {
        "id": "3dJjKt1Dfu5Z"
      },
      "execution_count": null,
      "outputs": []
    },
    {
      "cell_type": "code",
      "source": [
        "topic_model.visualize_heatmap(n_clusters=20, width=1000, height=1000)"
      ],
      "metadata": {
        "id": "VLgpO-qtfzt_"
      },
      "execution_count": null,
      "outputs": []
    },
    {
      "cell_type": "code",
      "source": [
        "model.reduce_topics(docs, nr_topics=60)"
      ],
      "metadata": {
        "id": "7YBrfNmhh6M7"
      },
      "execution_count": null,
      "outputs": []
    },
    {
      "cell_type": "code",
      "source": [
        "print(topic_model.topics_)"
      ],
      "metadata": {
        "id": "N2RqwRbNh-X5"
      },
      "execution_count": null,
      "outputs": []
    },
    {
      "cell_type": "code",
      "source": [
        "similar_topics, similarity = topic_model.find_topics(\"vehicle\", top_n=5); similar_topics"
      ],
      "metadata": {
        "id": "oTX-Ej2QiDGd"
      },
      "execution_count": null,
      "outputs": []
    },
    {
      "cell_type": "code",
      "source": [
        "# Save model\n",
        "topic_model.save(\"my_model\")\t"
      ],
      "metadata": {
        "id": "_z3XG0TTiGKl"
      },
      "execution_count": null,
      "outputs": []
    },
    {
      "cell_type": "code",
      "source": [
        "# Load model\n",
        "my_model = BERTopic.load(\"my_model\")\t"
      ],
      "metadata": {
        "id": "kTVb3W4riGOu"
      },
      "execution_count": null,
      "outputs": []
    }
  ]
}